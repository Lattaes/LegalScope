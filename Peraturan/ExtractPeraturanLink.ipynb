{
 "cells": [
  {
   "cell_type": "code",
   "execution_count": 1,
   "metadata": {},
   "outputs": [],
   "source": [
    "import pandas as pd\n",
    "import json"
   ]
  },
  {
   "cell_type": "code",
   "execution_count": 12,
   "metadata": {},
   "outputs": [],
   "source": [
    "# Load the CSV file\n",
    "file_path = 'D:/College/Semester 6/Peraturan Link/list.csv'\n",
    "df = pd.read_csv(file_path)"
   ]
  },
  {
   "cell_type": "code",
   "execution_count": 20,
   "metadata": {},
   "outputs": [],
   "source": [
    "# Define the category mapping\n",
    "categories = {\n",
    "    'Undang undang': ['Undang-undang', 'UUD', 'UU'],\n",
    "    'PERPPU': ['PERPPU'],\n",
    "    'Peraturan Pemerintah': ['Peraturan Pemerintah', 'pp', 'PP'],\n",
    "    'Peraturan Presiden': ['Peraturan Presiden', 'KEPPRES', 'keppres', 'PERPRES', 'inpres', \"INPRES\"],\n",
    "    'Peraturan Menteri': ['Peraturan Menteri', 'PERMEN', \"Permen\"],\n",
    "    'Peraturan Badan': ['Peraturan Badan', 'PERBAN'],\n",
    "    'Peraturan Daerah': ['PERDA']\n",
    "}"
   ]
  },
  {
   "cell_type": "code",
   "execution_count": 21,
   "metadata": {},
   "outputs": [],
   "source": [
    "# Create a reverse mapping from each Singkatan to its category\n",
    "reverse_mapping = {singkatan: category for category, singkatans in categories.items() for singkatan in singkatans}"
   ]
  },
  {
   "cell_type": "code",
   "execution_count": 22,
   "metadata": {},
   "outputs": [],
   "source": [
    "# Function to map each 'Singkatan Jenis/Bentuk Peraturan' to a category\n",
    "def map_to_category(singkatan):\n",
    "    return reverse_mapping.get(singkatan, 'Peraturan lainnya')"
   ]
  },
  {
   "cell_type": "code",
   "execution_count": 23,
   "metadata": {},
   "outputs": [],
   "source": [
    "# Apply the function to create a new column 'category'\n",
    "df['category'] = df['Singkatan Jenis/Bentuk Peraturan'].apply(map_to_category)"
   ]
  },
  {
   "cell_type": "code",
   "execution_count": 24,
   "metadata": {},
   "outputs": [],
   "source": [
    "# Group by 'category' and aggregate the 'wrapper_URL' values into lists\n",
    "grouped = df.groupby('category')['wrapper_URL'].apply(list).reset_index()"
   ]
  },
  {
   "cell_type": "code",
   "execution_count": 25,
   "metadata": {},
   "outputs": [],
   "source": [
    "# Convert the dataframe to a list of dictionaries\n",
    "json_result = grouped.to_dict(orient='records')"
   ]
  },
  {
   "cell_type": "code",
   "execution_count": 26,
   "metadata": {},
   "outputs": [],
   "source": [
    "# Save the JSON result to a file\n",
    "output_path = 'D:/College/Semester 6/Peraturan Link/output.json'\n",
    "with open(output_path, 'w') as json_file:\n",
    "    json.dump(json_result, json_file, indent=2)"
   ]
  }
 ],
 "metadata": {
  "kernelspec": {
   "display_name": "Python 3",
   "language": "python",
   "name": "python3"
  },
  "language_info": {
   "codemirror_mode": {
    "name": "ipython",
    "version": 3
   },
   "file_extension": ".py",
   "mimetype": "text/x-python",
   "name": "python",
   "nbconvert_exporter": "python",
   "pygments_lexer": "ipython3",
   "version": "3.9.13"
  }
 },
 "nbformat": 4,
 "nbformat_minor": 2
}
