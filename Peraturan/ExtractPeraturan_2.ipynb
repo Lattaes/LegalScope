{
 "cells": [
  {
   "cell_type": "code",
   "execution_count": 1,
   "metadata": {},
   "outputs": [],
   "source": [
    "import json\n",
    "import requests\n",
    "from bs4 import BeautifulSoup\n",
    "import re\n",
    "import time\n",
    "import os"
   ]
  },
  {
   "cell_type": "code",
   "execution_count": 2,
   "metadata": {},
   "outputs": [],
   "source": [
    "def clean_text(text):\n",
    "    # Replace newline (\\n), carriage return (\\r), and multiple spaces with a single space\n",
    "    return re.sub(r'[\\n\\r]+', ' ', text).strip()"
   ]
  },
  {
   "cell_type": "code",
   "execution_count": 7,
   "metadata": {},
   "outputs": [],
   "source": [
    "def extract_website_info(session, url):\n",
    "    try:\n",
    "        # Send request to website\n",
    "        response = session.get(url)\n",
    "        response.raise_for_status()  # Raise error for bad response\n",
    "        \n",
    "        # Parse HTML content\n",
    "        soup = BeautifulSoup(response.content, 'html.parser')\n",
    "        \n",
    "        # Extract Judul\n",
    "        judul = soup.find('h1').text.strip() if soup.find('h1') else '-'\n",
    "        judul = clean_text(judul)\n",
    "        \n",
    "        def get_table_data(header_name):\n",
    "            header = soup.find('th', string=header_name)\n",
    "            if header:\n",
    "                td = header.find_next_sibling('td')\n",
    "                if td:\n",
    "                    link = td.find('a')\n",
    "                    if link:\n",
    "                        # Extract the href attribute of the <a> tag\n",
    "                        return 'https://peraturan.go.id' + link.get('href')\n",
    "                    else:\n",
    "                        # Return the text content of the table cell\n",
    "                        return clean_text(td.text.strip())\n",
    "            return '-'\n",
    "        \n",
    "        # Extracting specific data from the table\n",
    "        jenis_bentuk_peraturan = get_table_data('Jenis/Bentuk Peraturan')\n",
    "        pemrakarsa = get_table_data('Pemrakarsa')\n",
    "        nomor = get_table_data('Nomor')\n",
    "        tahun = get_table_data('Tahun')\n",
    "        tentang = get_table_data('Tentang')\n",
    "        tempat_penetapan = get_table_data('Tempat Penetapan')\n",
    "        tanggal_penetapan = get_table_data('Ditetapkan Tanggal')\n",
    "        pejabat_penetapan = get_table_data('Pejabat yang Menetapkan')\n",
    "        status = get_table_data('Status')\n",
    "        dokumen_link = get_table_data('Dokumen Peraturan')  # Update header name here\n",
    "        tahun_pengundangan = get_table_data('Tahun Pengundangan')\n",
    "        no_pengundangan = get_table_data('Nomor Pengundangan')\n",
    "        no_tambahan = get_table_data('Nomor Tambahan')\n",
    "        tanggal_pengundangan = get_table_data('Tanggal Pengundangan')\n",
    "        pejabat_pengundangan = get_table_data('Pejabat Pengundangan')\n",
    "        \n",
    "        # Extract mengubah and dasar hukum information list\n",
    "        mengubah = []\n",
    "        dasar_hukum = []\n",
    "        \n",
    "        div_card_body = soup.find_all('div', class_='card-body')\n",
    "        \n",
    "        # Print the index of each div.card-body\n",
    "        for index, section in enumerate(div_card_body):\n",
    "            if 'Mengubah :' in section.text:\n",
    "                for item in section.find_all('li'):\n",
    "                    link = item.find('a')\n",
    "                    if link:\n",
    "                        mengubah.append({\n",
    "                            'text': clean_text(link.text.strip()),\n",
    "                            'link': link.get('href')\n",
    "                        })\n",
    "                    else:\n",
    "                        mengubah.append({'text': clean_text(item.text.strip()), 'link': None})\n",
    "        \n",
    "        # Extract the second 'ul' element within the second 'div.card-body'\n",
    "        if len(div_card_body) > 1:\n",
    "            sec_div_card_body = div_card_body[2]\n",
    "            ul_tags = sec_div_card_body.find_all('ul')\n",
    "            if ul_tags:\n",
    "                sec_ul_tag = ul_tags[0]  # Second ul in the second div\n",
    "                li_tags = sec_ul_tag.find_all('li')\n",
    "                for item in li_tags:\n",
    "                    link = item.find('a')\n",
    "                    if link:\n",
    "                        dasar_hukum.append({\n",
    "                            'text': clean_text(item.text.strip()),\n",
    "                            'link': link.get('href')\n",
    "                        })\n",
    "                    else:\n",
    "                        dasar_hukum.append({'text': clean_text(item.text.strip()), 'link': None})\n",
    "        \n",
    "        data = {\n",
    "            'judul': judul,\n",
    "            'jenis_bentuk_peraturan': jenis_bentuk_peraturan,\n",
    "            'pemrakarsa': pemrakarsa,\n",
    "            'nomor': nomor,\n",
    "            'tahun': tahun,\n",
    "            'tentang': tentang,\n",
    "            'tempat_penetapan': tempat_penetapan,\n",
    "            'tanggal_penetapan': tanggal_penetapan,\n",
    "            'pejabat_menetapkan': pejabat_penetapan,\n",
    "            'status': status,\n",
    "            'dokumen_link': dokumen_link,\n",
    "            'tahun_pengundangan': tahun_pengundangan,\n",
    "            'no_pengundangan': no_pengundangan,\n",
    "            'no_tambahan': no_tambahan,\n",
    "            'tanggal_pengundangan': tanggal_pengundangan,\n",
    "            'pejabat_pengundangan': pejabat_pengundangan,\n",
    "            'mengubah': mengubah,\n",
    "            'dasar_hukum': dasar_hukum\n",
    "        }\n",
    "        \n",
    "        return data\n",
    "        \n",
    "    except requests.RequestException as e:\n",
    "        print(f\"Error fetching the URL: {e}\")\n",
    "        return None"
   ]
  },
  {
   "cell_type": "code",
   "execution_count": 8,
   "metadata": {},
   "outputs": [],
   "source": [
    "def send_to_api(data):\n",
    "    api_url = 'http://localhost:3000/api/peraturan'\n",
    "    try:\n",
    "        response = requests.post(api_url, json=data)\n",
    "        response.raise_for_status()\n",
    "        print(f\"Successfully sent data to API: {response.json()}\")\n",
    "    except requests.RequestException as e:\n",
    "        print(f\"Error sending data to API: {e}\")"
   ]
  },
  {
   "cell_type": "code",
   "execution_count": 9,
   "metadata": {},
   "outputs": [],
   "source": [
    "def extract_and_send(category_name):\n",
    "    file_path = \"Link Peraturan Indonesia.json\"\n",
    "    delay = 10\n",
    "    \n",
    "    try:\n",
    "        with open(file_path, 'r', encoding='utf-8') as file:\n",
    "            url_data = json.load(file)\n",
    "    except Exception as e:\n",
    "        print(f\"Error reading JSON file: {e}\")\n",
    "        return\n",
    "\n",
    "    with requests.Session() as session:\n",
    "        for category in url_data:\n",
    "            if category.get('category') == category_name:\n",
    "                urls = category.get('wrapper_URL', [])\n",
    "                for url in urls:\n",
    "                    extracted_data = extract_website_info(session, url)\n",
    "                    if extracted_data:\n",
    "                        send_to_api(extracted_data)\n",
    "                    else:\n",
    "                        print(f\"Failed to extract data from {url}\")\n",
    "                    time.sleep(delay)\n",
    "\n",
    "    print(\"Data extraction and sending completed\")"
   ]
  },
  {
   "cell_type": "code",
   "execution_count": 10,
   "metadata": {},
   "outputs": [
    {
     "name": "stdout",
     "output_type": "stream",
     "text": [
      "Successfully sent data to API: {'judul': 'Peraturan Pemerintah Pengganti Undang-undang Nomor 1 Tahun 2022 Tentang Perubahan Atas Undang-undang Nomor 7 Tahun 2017 Tentang pemilihan Umum', 'jenis_bentuk_peraturan': 'PERATURAN PEMERINTAH PENGGANTI UNDANG-UNDANG', 'pemrakarsa': 'PEMERINTAH PUSAT', 'nomor': '1', 'tahun': 2022, 'tentang': 'PERUBAHAN ATAS UNDANG-UNDANG NOMOR 7 TAHUN 2017 TENTANG PEMILIHAN UMUM', 'tempat_penetapan': 'Jakarta', 'tanggal_penetapan': '12 Desember 2022', 'status': 'Berlaku', 'dokumen_link': 'https://peraturan.go.id/files/Salinan+Perpu+Nomor+1+tahun+2022.pdf', 'tahun_pengundangan': 2022, 'no_pengundangan': 224, 'no_tambahan': 6832, 'tanggal_pengundangan': '12 Desember 2022', 'pejabat_pengundangan': '', 'mengubah': [{'text': 'Undang-Undang Nomor 7 Tahun 2017', 'link': '/id/uu-no-7-tahun-2017', '_id': '6692e9186a72990078966f6f'}], 'dasar_hukum': [{'text': 'Tentang Undang-undang Dasar Negara Republik Indonesia Tahun 1945', 'link': '/id/uud-1945', '_id': '6692e9186a72990078966f70'}, {'text': 'Undang-Undang Nomor 7 Tahun 2017 Tentang Pemilihan Umum', 'link': '/id/uu-no-7-tahun-2017', '_id': '6692e9186a72990078966f71'}, {'text': 'Undang-Undang Nomor 3 Tahun 2022 Tentang Ibu Kota Negara', 'link': '/id/uu-no-3-tahun-2022', '_id': '6692e9186a72990078966f72'}, {'text': 'Undang-Undang Nomor 14 Tahun 2022 Tentang Pembentukan Provinsi Papua Selatan', 'link': '/id/uu-no-14-tahun-2022', '_id': '6692e9186a72990078966f73'}, {'text': 'Undang-Undang Nomor 15 Tahun 2022 Tentang Pembentukan Provinsi Papua Tengah', 'link': '/id/uu-no-15-tahun-2022', '_id': '6692e9186a72990078966f74'}, {'text': 'Undang-Undang Nomor 29 Tahun 2022 Tentang Pembentukan Provinsi Papua Barat Daya', 'link': '/id/uu-no-29-tahun-2022', '_id': '6692e9186a72990078966f75'}, {'text': 'Undang-Undang Nomor 7 Tahun 2017 Tentang Pemilihan Umum', 'link': '/id/uu-no-7-tahun-2017', '_id': '6692e9186a72990078966f76'}], '_id': '6692e9186a72990078966f6e', '__v': 0}\n"
     ]
    },
    {
     "ename": "KeyboardInterrupt",
     "evalue": "",
     "output_type": "error",
     "traceback": [
      "\u001b[1;31m---------------------------------------------------------------------------\u001b[0m",
      "\u001b[1;31mKeyboardInterrupt\u001b[0m                         Traceback (most recent call last)",
      "Cell \u001b[1;32mIn[10], line 3\u001b[0m\n\u001b[0;32m      1\u001b[0m \u001b[38;5;28;01mif\u001b[39;00m \u001b[38;5;18m__name__\u001b[39m \u001b[38;5;241m==\u001b[39m \u001b[38;5;124m'\u001b[39m\u001b[38;5;124m__main__\u001b[39m\u001b[38;5;124m'\u001b[39m:\n\u001b[0;32m      2\u001b[0m     category_to_extract \u001b[38;5;241m=\u001b[39m \u001b[38;5;124m\"\u001b[39m\u001b[38;5;124mPERPPU\u001b[39m\u001b[38;5;124m\"\u001b[39m\n\u001b[1;32m----> 3\u001b[0m     \u001b[43mextract_and_send\u001b[49m\u001b[43m(\u001b[49m\u001b[43mcategory_to_extract\u001b[49m\u001b[43m)\u001b[49m\n",
      "Cell \u001b[1;32mIn[9], line 22\u001b[0m, in \u001b[0;36mextract_and_send\u001b[1;34m(category_name)\u001b[0m\n\u001b[0;32m     20\u001b[0m                 \u001b[38;5;28;01melse\u001b[39;00m:\n\u001b[0;32m     21\u001b[0m                     \u001b[38;5;28mprint\u001b[39m(\u001b[38;5;124mf\u001b[39m\u001b[38;5;124m\"\u001b[39m\u001b[38;5;124mFailed to extract data from \u001b[39m\u001b[38;5;132;01m{\u001b[39;00murl\u001b[38;5;132;01m}\u001b[39;00m\u001b[38;5;124m\"\u001b[39m)\n\u001b[1;32m---> 22\u001b[0m                 \u001b[43mtime\u001b[49m\u001b[38;5;241;43m.\u001b[39;49m\u001b[43msleep\u001b[49m\u001b[43m(\u001b[49m\u001b[43mdelay\u001b[49m\u001b[43m)\u001b[49m\n\u001b[0;32m     24\u001b[0m \u001b[38;5;28mprint\u001b[39m(\u001b[38;5;124m\"\u001b[39m\u001b[38;5;124mData extraction and sending completed\u001b[39m\u001b[38;5;124m\"\u001b[39m)\n",
      "\u001b[1;31mKeyboardInterrupt\u001b[0m: "
     ]
    }
   ],
   "source": [
    "if __name__ == '__main__':\n",
    "    category_to_extract = \"PERPPU\"\n",
    "    extract_and_send(category_to_extract)"
   ]
  },
  {
   "cell_type": "code",
   "execution_count": null,
   "metadata": {},
   "outputs": [],
   "source": [
    "if __name__ == '__main__':\n",
    "    category_to_extract = \"Peraturan Badan\"\n",
    "    extract_and_send(category_to_extract)"
   ]
  },
  {
   "cell_type": "code",
   "execution_count": null,
   "metadata": {},
   "outputs": [],
   "source": [
    "if __name__ == '__main__':\n",
    "    category_to_extract = \"Peraturan Daerah\"\n",
    "    extract_and_send(category_to_extract)"
   ]
  },
  {
   "cell_type": "code",
   "execution_count": null,
   "metadata": {},
   "outputs": [],
   "source": [
    "if __name__ == '__main__':\n",
    "    category_to_extract = \"Peraturan Menteri\"\n",
    "    extract_and_send(category_to_extract)"
   ]
  },
  {
   "cell_type": "code",
   "execution_count": null,
   "metadata": {},
   "outputs": [],
   "source": [
    "if __name__ == '__main__':\n",
    "    category_to_extract = \"Peraturan Pemerintah\"\n",
    "    extract_and_send(category_to_extract)"
   ]
  },
  {
   "cell_type": "code",
   "execution_count": null,
   "metadata": {},
   "outputs": [],
   "source": [
    "if __name__ == '__main__':\n",
    "    category_to_extract = \"Peraturan Presiden\"\n",
    "    extract_and_send(category_to_extract)"
   ]
  },
  {
   "cell_type": "code",
   "execution_count": null,
   "metadata": {},
   "outputs": [],
   "source": [
    "if __name__ == '__main__':\n",
    "    category_to_extract = \"Peraturan lainnya\"\n",
    "    extract_and_send(category_to_extract)"
   ]
  },
  {
   "cell_type": "code",
   "execution_count": null,
   "metadata": {},
   "outputs": [],
   "source": [
    "if __name__ == '__main__':\n",
    "    category_to_extract = \"Undang undang\"\n",
    "    extract_and_send(category_to_extract)"
   ]
  }
 ],
 "metadata": {
  "kernelspec": {
   "display_name": "Python 3",
   "language": "python",
   "name": "python3"
  },
  "language_info": {
   "codemirror_mode": {
    "name": "ipython",
    "version": 3
   },
   "file_extension": ".py",
   "mimetype": "text/x-python",
   "name": "python",
   "nbconvert_exporter": "python",
   "pygments_lexer": "ipython3",
   "version": "3.9.13"
  }
 },
 "nbformat": 4,
 "nbformat_minor": 2
}
